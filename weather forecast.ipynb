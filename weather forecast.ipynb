{
 "cells": [
  {
   "cell_type": "code",
   "execution_count": 2,
   "id": "490556a0-0647-4ea7-ad05-00e34e73ce16",
   "metadata": {},
   "outputs": [
    {
     "name": "stdout",
     "output_type": "stream",
     "text": [
      "Defaulting to user installation because normal site-packages is not writeable\n",
      "Requirement already satisfied: requests in c:\\programdata\\anaconda3\\anaconda\\lib\\site-packages (2.28.1)\n",
      "Requirement already satisfied: idna<4,>=2.5 in c:\\programdata\\anaconda3\\anaconda\\lib\\site-packages (from requests) (3.3)\n",
      "Requirement already satisfied: urllib3<1.27,>=1.21.1 in c:\\programdata\\anaconda3\\anaconda\\lib\\site-packages (from requests) (1.26.11)\n",
      "Requirement already satisfied: certifi>=2017.4.17 in c:\\programdata\\anaconda3\\anaconda\\lib\\site-packages (from requests) (2022.9.14)\n",
      "Requirement already satisfied: charset-normalizer<3,>=2 in c:\\programdata\\anaconda3\\anaconda\\lib\\site-packages (from requests) (2.0.4)\n",
      "Note: you may need to restart the kernel to use updated packages.\n"
     ]
    }
   ],
   "source": [
    "pip install requests"
   ]
  },
  {
   "cell_type": "code",
   "execution_count": 3,
   "id": "09c50525-25e7-4671-aa91-56181a51bf5d",
   "metadata": {},
   "outputs": [
    {
     "name": "stdin",
     "output_type": "stream",
     "text": [
      "Enter latitude:  40.7214\n",
      "Enter longitude:  -74.0060\n"
     ]
    },
    {
     "name": "stdout",
     "output_type": "stream",
     "text": [
      "Max temperature: [-2.3, -1.1, -1.7, 1.0, 3.8, 6.2, 5.0]\n",
      "Min temperature: [-7.8, -9.6, -7.8, -4.4, -4.0, 0.7, 0.4]\n"
     ]
    }
   ],
   "source": [
    "import requests\n",
    "\n",
    "latitude = float(input(\"Enter latitude: \"))#input(\"Enter latitude: \")\n",
    "longitude = float(input(\"Enter longitude: \"))#input(\"Enter longitude: \")\n",
    "\n",
    "request_url = f\"https://api.open-meteo.com/v1/forecast?latitude={latitude}&longitude={longitude}&daily=temperature_2m_max,temperature_2m_min&timezone=auto\"  \n",
    "\n",
    "response = requests.get(request_url)\n",
    "\n",
    "#if response.status_code == 200:\n",
    "data = response.json()\n",
    "daily_data = data[\"daily\"]\n",
    "max_temp = daily_data[\"temperature_2m_max\"]\n",
    "min_temp = daily_data[\"temperature_2m_min\"]\n",
    "print(f\"Max temperature: {max_temp}\")\n",
    "print(f\"Min temperature: {min_temp}\")\n",
    "#else:\n",
    "    #print(f\"Error: {response.status_code}Unable to retrieve weather data.\")\n",
    "  \n",
    "#data = response.json()\n",
    "#print(data)"
   ]
  },
  {
   "cell_type": "code",
   "execution_count": 8,
   "id": "2ed2616d-f793-46a9-86a9-27513b4809c6",
   "metadata": {},
   "outputs": [
    {
     "name": "stdin",
     "output_type": "stream",
     "text": [
      "Enter latitude:  40.7128\n",
      "Enter longitude:  -74.0060\n"
     ]
    },
    {
     "name": "stdout",
     "output_type": "stream",
     "text": [
      "{'latitude': 40.710335, 'longitude': -73.99309, 'generationtime_ms': 0.04208087921142578, 'utc_offset_seconds': -18000, 'timezone': 'America/New_York', 'timezone_abbreviation': 'GMT-5', 'elevation': 32.0, 'daily_units': {'time': 'iso8601', 'temperature_2m_max': '°C', 'temperature_2m_min': '°C'}, 'daily': {'time': ['2025-02-19', '2025-02-20', '2025-02-21', '2025-02-22', '2025-02-23', '2025-02-24', '2025-02-25'], 'temperature_2m_max': [-0.7, -1.8, 0.7, 3.0, 6.0, 5.5, 8.8], 'temperature_2m_min': [-8.2, -9.1, -7.7, -4.9, -0.2, 0.9, 2.9]}}\n"
     ]
    }
   ],
   "source": [
    "import requests\n",
    "\n",
    "latitude = float(input(\"Enter latitude: \"))#input(\"Enter latitude: \")\n",
    "longitude = float(input(\"Enter longitude: \"))#input(\"Enter longitude: \")\n",
    "\n",
    "request_url = f\"https://api.open-meteo.com/v1/forecast?latitude={latitude}&longitude={longitude}&daily=temperature_2m_max,temperature_2m_min&timezone=auto\"  \n",
    "\n",
    "response = requests.get(request_url)  \n",
    "data = response.json()\n",
    "print(data)"
   ]
  },
  {
   "cell_type": "code",
   "execution_count": 10,
   "id": "539953de-bfc6-4634-895d-cfbdc11c48e6",
   "metadata": {},
   "outputs": [
    {
     "name": "stdout",
     "output_type": "stream",
     "text": [
      "Defaulting to user installation because normal site-packages is not writeable\n",
      "Requirement already satisfied: pandas in c:\\programdata\\anaconda3\\anaconda\\lib\\site-packages (1.4.4)\n",
      "Requirement already satisfied: pytz>=2020.1 in c:\\users\\user\\appdata\\roaming\\python\\python39\\site-packages (from pandas) (2022.7.1)\n",
      "Requirement already satisfied: python-dateutil>=2.8.1 in c:\\programdata\\anaconda3\\anaconda\\lib\\site-packages (from pandas) (2.8.2)\n",
      "Requirement already satisfied: numpy>=1.18.5 in c:\\programdata\\anaconda3\\anaconda\\lib\\site-packages (from pandas) (1.21.5)\n",
      "Requirement already satisfied: six>=1.5 in c:\\programdata\\anaconda3\\anaconda\\lib\\site-packages (from python-dateutil>=2.8.1->pandas) (1.16.0)\n",
      "Note: you may need to restart the kernel to use updated packages.\n"
     ]
    }
   ],
   "source": [
    "pip install pandas"
   ]
  },
  {
   "cell_type": "code",
   "execution_count": 11,
   "id": "149bda2f-8a95-488b-b26f-2d4b44693a70",
   "metadata": {},
   "outputs": [
    {
     "name": "stdout",
     "output_type": "stream",
     "text": [
      "Defaulting to user installation because normal site-packages is not writeable\n",
      "Requirement already satisfied: tabulate in c:\\programdata\\anaconda3\\anaconda\\lib\\site-packages (0.8.10)\n",
      "Note: you may need to restart the kernel to use updated packages.\n"
     ]
    }
   ],
   "source": [
    "pip install tabulate"
   ]
  },
  {
   "cell_type": "code",
   "execution_count": 31,
   "id": "39d885f6-41f8-4479-ad26-2df93de330a1",
   "metadata": {},
   "outputs": [
    {
     "name": "stdin",
     "output_type": "stream",
     "text": [
      "Enter latitude:  40.7128\n",
      "Enter longitude:  -74.0060\n"
     ]
    },
    {
     "name": "stdout",
     "output_type": "stream",
     "text": [
      "+------------+-------------------+-------------------+\n",
      "| Days       |   Max Temperature |   Min Temperature |\n",
      "+============+===================+===================+\n",
      "| 2025-02-25 |              13.2 |               3.8 |\n",
      "+------------+-------------------+-------------------+\n",
      "| 2025-02-26 |              13.1 |               1   |\n",
      "+------------+-------------------+-------------------+\n",
      "| 2025-02-27 |              15.6 |               4   |\n",
      "+------------+-------------------+-------------------+\n",
      "| 2025-02-28 |               6.2 |               3.8 |\n",
      "+------------+-------------------+-------------------+\n",
      "| 2025-03-01 |              11.2 |              -3.2 |\n",
      "+------------+-------------------+-------------------+\n",
      "| 2025-03-02 |               1.3 |              -6.4 |\n",
      "+------------+-------------------+-------------------+\n",
      "| 2025-03-03 |               3.3 |              -2.3 |\n",
      "+------------+-------------------+-------------------+\n"
     ]
    }
   ],
   "source": [
    "import requests\n",
    "from tabulate import tabulate\n",
    "#error handling\n",
    "try:\n",
    "    #requesting user to input latitude & longitude of city's weather forecast they want to display\n",
    "    latitude = float(input(\"Enter latitude: \"))#input(\"Enter latitude: \")\n",
    "    longitude = float(input(\"Enter longitude: \"))#input(\"Enter longitude: \")\n",
    "    #api showing the maximum and minimun temperature weather forecast for the next 7 days \n",
    "    api_url = f\"https://api.open-meteo.com/v1/forecast?latitude={latitude}&longitude={longitude}&daily=temperature_2m_max,temperature_2m_min&timezone=auto\" \n",
    "\n",
    "    response = requests.get(api_url)  \n",
    "    weather_data = response.json()\n",
    "    daily_data = weather_data[\"daily\"]\n",
    "    #display weather data in a table\n",
    "    table_data = list(zip(daily_data[\"time\"], daily_data[\"temperature_2m_max\"], daily_data[\"temperature_2m_min\"]))\n",
    "    headers = [\"Days\", \"Max Temperature\", \"Min Temperature\"]\n",
    "    print(tabulate(table_data, headers, tablefmt=\"grid\"))\n",
    "except Exception as error:\n",
    "    print(\"Invalid Location\")\n",
    "    print(error)"
   ]
  },
  {
   "cell_type": "code",
   "execution_count": 38,
   "id": "a8a80176-e0c1-4afd-9a1f-1de5c8bb84a3",
   "metadata": {},
   "outputs": [
    {
     "name": "stdin",
     "output_type": "stream",
     "text": [
      "Enter city name:  lagos\n"
     ]
    },
    {
     "name": "stdout",
     "output_type": "stream",
     "text": [
      "\n",
      "Weather forecast for Lagos:\n",
      "\n",
      "+------------+-------------------+-------------------+\n",
      "| Days       |   Max Temperature |   Min Temperature |\n",
      "+============+===================+===================+\n",
      "| 2025-02-25 |              32.5 |              28   |\n",
      "+------------+-------------------+-------------------+\n",
      "| 2025-02-26 |              31.2 |              27.1 |\n",
      "+------------+-------------------+-------------------+\n",
      "| 2025-02-27 |              32.7 |              27.5 |\n",
      "+------------+-------------------+-------------------+\n",
      "| 2025-02-28 |              32.7 |              28   |\n",
      "+------------+-------------------+-------------------+\n",
      "| 2025-03-01 |              32.6 |              28   |\n",
      "+------------+-------------------+-------------------+\n",
      "| 2025-03-02 |              33.1 |              28.1 |\n",
      "+------------+-------------------+-------------------+\n",
      "| 2025-03-03 |              32.6 |              28.1 |\n",
      "+------------+-------------------+-------------------+\n"
     ]
    }
   ],
   "source": [
    "import requests\n",
    "from tabulate import tabulate\n",
    "\n",
    "def get_coordinates(city):\n",
    "    #\"\"\"Fetch latitude and longitude of a city using Open-Meteo Geocoding API.\"\"\"\n",
    "    try:\n",
    "        geo_url = f\"https://geocoding-api.open-meteo.com/v1/search?name={city}&count=1&language=en&format=json\"\n",
    "        response = requests.get(geo_url)\n",
    "\n",
    "        if response.status_code != 200:\n",
    "            print(\"Error fetching city coordinates!\")\n",
    "            return None, None\n",
    "\n",
    "        weather_data = response.json()\n",
    "\n",
    "        if \"results\" not in weather_data or len(weather_data[\"results\"]) == 0:\n",
    "            print(f\"City '{city}' not found!\")\n",
    "            return None, None\n",
    "\n",
    "        city_data = weather_data[\"results\"][0]\n",
    "        return city_data[\"latitude\"], city_data[\"longitude\"]\n",
    "\n",
    "    except requests.exceptions.RequestException as e:\n",
    "        print(\"Network error while fetching coordinates:\", e)\n",
    "        return None, None\n",
    "\n",
    "def get_weather_forecast(city):\n",
    "    #\"\"\"Fetch and display weather forecast for a given city.\"\"\"\n",
    "    latitude, longitude = get_coordinates(city)\n",
    "\n",
    "    if latitude is None or longitude is None:\n",
    "        return\n",
    "\n",
    "    try:\n",
    "        # Fetch weather data using coordinates\n",
    "        weather_url = f\"https://api.open-meteo.com/v1/forecast?latitude={latitude}&longitude={longitude}&daily=temperature_2m_max,temperature_2m_min&timezone=auto\"\n",
    "        response = requests.get(weather_url)\n",
    "\n",
    "        if response.status_code != 200:\n",
    "            print(f\"API request failed! Status code: {response.status_code}\")\n",
    "            return\n",
    "        \n",
    "        weather_data = response.json()\n",
    "        \n",
    "        if \"daily\" not in data:\n",
    "            print(\"Invalid API response: 'daily' data not found\")\n",
    "            return\n",
    "\n",
    "        daily_data = weather_data[\"daily\"]\n",
    "        table_data = list(zip(daily_data[\"time\"], daily_data[\"temperature_2m_max\"], daily_data[\"temperature_2m_min\"]))\n",
    "        headers = [\"Days\", \"Max Temperature\", \"Min Temperature\"]\n",
    "\n",
    "        print(f\"\\nWeather forecast for {city.capitalize()}:\\n\")\n",
    "        print(tabulate(table_data, headers, tablefmt=\"grid\"))\n",
    "\n",
    "    except requests.exceptions.RequestException as e:\n",
    "        print(\"Network error:\", e)\n",
    "    except KeyError as e:\n",
    "        print(f\"Unexpected API response structure. Missing key: {e}\")\n",
    "    except Exception as error:\n",
    "        print(\"An unexpected error occurred:\", error)\n",
    "\n",
    "# Get user input\n",
    "city_name = input(\"Enter city name: \").strip()\n",
    "get_weather_forecast(city_name)"
   ]
  },
  {
   "cell_type": "code",
   "execution_count": null,
   "id": "5bc66349-476d-48aa-b7fc-994d3e4ae5ec",
   "metadata": {},
   "outputs": [],
   "source": []
  }
 ],
 "metadata": {
  "kernelspec": {
   "display_name": "Python 3 (ipykernel)",
   "language": "python",
   "name": "python3"
  },
  "language_info": {
   "codemirror_mode": {
    "name": "ipython",
    "version": 3
   },
   "file_extension": ".py",
   "mimetype": "text/x-python",
   "name": "python",
   "nbconvert_exporter": "python",
   "pygments_lexer": "ipython3",
   "version": "3.9.13"
  }
 },
 "nbformat": 4,
 "nbformat_minor": 5
}
